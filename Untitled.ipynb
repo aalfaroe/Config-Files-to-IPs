{
 "cells": [
  {
   "cell_type": "code",
   "execution_count": 12,
   "id": "2c5a1f6d",
   "metadata": {},
   "outputs": [
    {
     "ename": "FileNotFoundError",
     "evalue": "[WinError 2] The system cannot find the file specified: 'D:\\\\Users\\\\aalfaroe\\\\Documents\\\\2023\\\\CONFIG_FILES\\\\CactusVPN-OpenVPN-Config:'",
     "output_type": "error",
     "traceback": [
      "\u001b[1;31m---------------------------------------------------------------------------\u001b[0m",
      "\u001b[1;31mFileNotFoundError\u001b[0m                         Traceback (most recent call last)",
      "Cell \u001b[1;32mIn[12], line 4\u001b[0m\n\u001b[0;32m      2\u001b[0m path \u001b[38;5;241m=\u001b[39m \u001b[38;5;124m\"\u001b[39m\u001b[38;5;124mCactusVPN-OpenVPN-Config:/\u001b[39m\u001b[38;5;124m\"\u001b[39m\n\u001b[0;32m      3\u001b[0m path \u001b[38;5;241m=\u001b[39m os\u001b[38;5;241m.\u001b[39mpath\u001b[38;5;241m.\u001b[39mrealpath(path)\n\u001b[1;32m----> 4\u001b[0m \u001b[43mos\u001b[49m\u001b[38;5;241;43m.\u001b[39;49m\u001b[43mstartfile\u001b[49m\u001b[43m(\u001b[49m\u001b[43mpath\u001b[49m\u001b[43m)\u001b[49m\n",
      "\u001b[1;31mFileNotFoundError\u001b[0m: [WinError 2] The system cannot find the file specified: 'D:\\\\Users\\\\aalfaroe\\\\Documents\\\\2023\\\\CONFIG_FILES\\\\CactusVPN-OpenVPN-Config:'"
     ]
    }
   ],
   "source": [
    "\n",
    "\n",
    "\n",
    "import os\n",
    "path = \"CactusVPN-OpenVPN-Config:/\"\n",
    "path = os.path.realpath(path)\n",
    "os.startfile(path)"
   ]
  },
  {
   "cell_type": "code",
   "execution_count": 9,
   "id": "5b3d7fa3",
   "metadata": {},
   "outputs": [
    {
     "ename": "PermissionError",
     "evalue": "[Errno 13] Permission denied: 'CactusVPN-OpenVPN-Config'",
     "output_type": "error",
     "traceback": [
      "\u001b[1;31m---------------------------------------------------------------------------\u001b[0m",
      "\u001b[1;31mPermissionError\u001b[0m                           Traceback (most recent call last)",
      "Cell \u001b[1;32mIn[9], line 5\u001b[0m\n\u001b[0;32m      3\u001b[0m ip_occurrences \u001b[38;5;241m=\u001b[39m OrderedDict()\n\u001b[0;32m      4\u001b[0m     \u001b[38;5;66;03m# open your file\u001b[39;00m\n\u001b[1;32m----> 5\u001b[0m \u001b[38;5;28;01mwith\u001b[39;00m \u001b[38;5;28;43mopen\u001b[39;49m\u001b[43m(\u001b[49m\u001b[38;5;124;43m'\u001b[39;49m\u001b[38;5;124;43mCactusVPN-OpenVPN-Config\u001b[39;49m\u001b[38;5;124;43m'\u001b[39;49m\u001b[43m,\u001b[49m\u001b[43m \u001b[49m\u001b[38;5;124;43m'\u001b[39;49m\u001b[38;5;124;43mr\u001b[39;49m\u001b[38;5;124;43m'\u001b[39;49m\u001b[43m)\u001b[49m \u001b[38;5;28;01mas\u001b[39;00m f:\n\u001b[0;32m      6\u001b[0m     ip_addresses \u001b[38;5;241m=\u001b[39m f\u001b[38;5;241m.\u001b[39mreadlines()\n\u001b[0;32m      8\u001b[0m        \u001b[38;5;66;03m# read all the IP addresses in to a set\u001b[39;00m\n\u001b[0;32m      9\u001b[0m \n\u001b[0;32m     10\u001b[0m     \n\u001b[0;32m     11\u001b[0m        \u001b[38;5;66;03m# loop through the set of IP addresses\u001b[39;00m\n",
      "File \u001b[1;32m~\\Documents\\New folder\\New folder\\anaconda\\lib\\site-packages\\IPython\\core\\interactiveshell.py:284\u001b[0m, in \u001b[0;36m_modified_open\u001b[1;34m(file, *args, **kwargs)\u001b[0m\n\u001b[0;32m    277\u001b[0m \u001b[38;5;28;01mif\u001b[39;00m file \u001b[38;5;129;01min\u001b[39;00m {\u001b[38;5;241m0\u001b[39m, \u001b[38;5;241m1\u001b[39m, \u001b[38;5;241m2\u001b[39m}:\n\u001b[0;32m    278\u001b[0m     \u001b[38;5;28;01mraise\u001b[39;00m \u001b[38;5;167;01mValueError\u001b[39;00m(\n\u001b[0;32m    279\u001b[0m         \u001b[38;5;124mf\u001b[39m\u001b[38;5;124m\"\u001b[39m\u001b[38;5;124mIPython won\u001b[39m\u001b[38;5;124m'\u001b[39m\u001b[38;5;124mt let you open fd=\u001b[39m\u001b[38;5;132;01m{\u001b[39;00mfile\u001b[38;5;132;01m}\u001b[39;00m\u001b[38;5;124m by default \u001b[39m\u001b[38;5;124m\"\u001b[39m\n\u001b[0;32m    280\u001b[0m         \u001b[38;5;124m\"\u001b[39m\u001b[38;5;124mas it is likely to crash IPython. If you know what you are doing, \u001b[39m\u001b[38;5;124m\"\u001b[39m\n\u001b[0;32m    281\u001b[0m         \u001b[38;5;124m\"\u001b[39m\u001b[38;5;124myou can use builtins\u001b[39m\u001b[38;5;124m'\u001b[39m\u001b[38;5;124m open.\u001b[39m\u001b[38;5;124m\"\u001b[39m\n\u001b[0;32m    282\u001b[0m     )\n\u001b[1;32m--> 284\u001b[0m \u001b[38;5;28;01mreturn\u001b[39;00m io_open(file, \u001b[38;5;241m*\u001b[39margs, \u001b[38;5;241m*\u001b[39m\u001b[38;5;241m*\u001b[39mkwargs)\n",
      "\u001b[1;31mPermissionError\u001b[0m: [Errno 13] Permission denied: 'CactusVPN-OpenVPN-Config'"
     ]
    }
   ],
   "source": [
    "from collections import OrderedDict\n",
    "    \n",
    "ip_occurrences = OrderedDict()\n",
    "    # open your file\n",
    "with open('CactusVPN-OpenVPN-Config', 'r') as f:\n",
    "    ip_addresses = f.readlines()\n",
    "    \n",
    "       # read all the IP addresses in to a set\n",
    "\n",
    "    \n",
    "       # loop through the set of IP addresses\n",
    "    for ip in ip_addresses:\n",
    "        # my text file had \\n codes that needed to be filtered\n",
    "          #  we will need to remember this when we reference ip_addresses\n",
    "          #  for lookups as it is not filtered\n",
    "          clean_ip = ip.replace('\\n', '')\n",
    "        \n",
    "    \n",
    "          # my text file had \\n codes that needed to be filtered\n",
    "          #  we will need to remember this when we reference ip_addresses\n",
    "          #  for lookups as it is not filtered\n",
    "          clean_ip = ip.replace('\\n', '')\n",
    "    \n",
    "          # We check our clean IP address to see if it already exists.  \n",
    "          # We only want to add new ip addresses\n",
    "    if clean_ip not in ip_occurrences.keys():\n",
    "        # create a new key with the clean_ip name with the count of \n",
    "             # the occurnces (not clean) in ip_addresses\n",
    "             ip_occurrences[clean_ip] = ip_addresses.count(ip)\n",
    "    \n",
    "             \n",
    "    \n",
    "    # winner winner chicken dinner! this is the IP address that occurred the most\n",
    "most_freq_ip = max(ip_occurrences, key=ip_occurrences.get)\n",
    "    \n",
    "    # display it however you see fit.  I added ip_occurrences[most_freq_ip] to\n",
    "    # show what the count is\n",
    "print( f'{most_freq_ip} occurred {ip_occurrences[most_freq_ip]} times')"
   ]
  },
  {
   "cell_type": "code",
   "execution_count": 2,
   "id": "2ae3e4ed",
   "metadata": {},
   "outputs": [
    {
     "name": "stdout",
     "output_type": "stream",
     "text": [
      "All .ovpn files downloaded successfully.\n"
     ]
    }
   ],
   "source": [
    "import os\n",
    "import requests\n",
    "from urllib.parse import urljoin\n",
    "from bs4 import BeautifulSoup\n",
    "\n",
    "base_url = \"https://switchvpn.net/ovpn/\"\n",
    "save_folder = \"ovpn_files\"\n",
    "\n",
    "if not os.path.exists(save_folder):\n",
    "    os.makedirs(save_folder)\n",
    "\n",
    "response = requests.get(base_url)\n",
    "soup = BeautifulSoup(response.text, \"html.parser\")\n",
    "\n",
    "for link in soup.find_all(\"a\"):\n",
    "    href = link.get(\"href\")\n",
    "    if href.endswith(\".ovpn\"):\n",
    "        file_url = urljoin(base_url, href)\n",
    "        file_name = os.path.join(save_folder, href)\n",
    "        file_data = requests.get(file_url).content\n",
    "        with open(file_name, \"wb\") as f:\n",
    "            f.write(file_data)\n",
    "        print(f\"Downloaded: {href}\")\n",
    "\n",
    "print(\"All .ovpn files downloaded successfully.\")\n",
    "\n"
   ]
  }
 ],
 "metadata": {
  "hide_input": false,
  "kernelspec": {
   "display_name": "Python 3 (ipykernel)",
   "language": "python",
   "name": "python3"
  },
  "language_info": {
   "codemirror_mode": {
    "name": "ipython",
    "version": 3
   },
   "file_extension": ".py",
   "mimetype": "text/x-python",
   "name": "python",
   "nbconvert_exporter": "python",
   "pygments_lexer": "ipython3",
   "version": "3.10.11"
  },
  "nbTranslate": {
   "displayLangs": [
    "*"
   ],
   "hotkey": "alt-t",
   "langInMainMenu": true,
   "sourceLang": "en",
   "targetLang": "fr",
   "useGoogleTranslate": true
  },
  "toc": {
   "base_numbering": 1,
   "nav_menu": {},
   "number_sections": true,
   "sideBar": true,
   "skip_h1_title": false,
   "title_cell": "Table of Contents",
   "title_sidebar": "Contents",
   "toc_cell": false,
   "toc_position": {},
   "toc_section_display": true,
   "toc_window_display": false
  }
 },
 "nbformat": 4,
 "nbformat_minor": 5
}
